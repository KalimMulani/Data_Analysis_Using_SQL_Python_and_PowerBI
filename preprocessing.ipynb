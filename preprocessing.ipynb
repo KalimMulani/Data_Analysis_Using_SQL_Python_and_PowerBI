{
 "cells": [
  {
   "cell_type": "code",
   "execution_count": 1,
   "id": "e74832aa",
   "metadata": {
    "vscode": {
     "languageId": "plaintext"
    }
   },
   "outputs": [],
   "source": [
    "import pandas as pd\n",
    "import os\n",
    "from sqlalchemy import create_engine\n",
    "import time\n",
    "import logging\n",
    "\n",
    "os.makedirs(\"logs\", exist_ok=True)\n",
    "\n",
    "logging.basicConfig(\n",
    "    filename= 'logs/ingestion_db.log',\n",
    "    level = logging.DEBUG,\n",
    "    format = '%(asctime)s - %(levelname)s - %(message)s',\n",
    "    filemode ='a'\n",
    ")\n",
    "\n",
    "username = \"root\"          \n",
    "password = \"root\" \n",
    "host = \"localhost\"         \n",
    "port = \"3306\"              \n",
    "database = \"inventory\"     \n",
    "\n",
    "engine = create_engine(f\"mysql+pymysql://{username}:{password}@{host}:{port}/{database}\")\n",
    "\n",
    "def ingest_data(df, tbl_nm, engine, chunksize=5000, if_exists=\"replace\"):\n",
    "    \"\"\"\n",
    "    Insert DataFrame into MySQL safely and quickly.\n",
    "\n",
    "    Parameters:\n",
    "        df (pd.DataFrame): Data to insert\n",
    "        tbl_nm (str): Target table name\n",
    "        engine: SQLAlchemy engine\n",
    "        chunksize (int): Number of rows per batch insert (default 5000)\n",
    "        if_exists (str): 'append' (default) | 'replace' | 'fail'\n",
    "    \"\"\"\n",
    "    try:\n",
    "        df.to_sql(\n",
    "            name=tbl_nm,\n",
    "            con=engine,\n",
    "            if_exists=if_exists,\n",
    "            index=False,\n",
    "            chunksize=chunksize,   # prevents memory errors\n",
    "            method=\"multi\"         # multi-row INSERTs (faster)\n",
    "        )\n",
    "        logging.info(f\"Inserted {len(df)} rows into '{tbl_nm}'\")\n",
    "    except Exception as e:\n",
    "        logging.info(f\"Error inserting into {tbl_nm}: {e}\")\n",
    "\n",
    "def load_raw_data():\n",
    "    start = time.time()\n",
    "    for file in os.listdir('data'):\n",
    "        if file.endswith('.csv'):\n",
    "            df = pd.read_csv('data/'+file)\n",
    "            logging.info(f'Ingesting {file} in db.')\n",
    "            ingest_data(df,file[:-4],engine)\n",
    "    end = time.time()\n",
    "    total_time = (end - start)/ 60\n",
    "    logging.info('Ingestion complete.')\n",
    "    logging.info(f'Total time taken for ingestion {total_time} in minutes.')\n",
    "\n",
    "if __name__ == '__main__':\n",
    "    load_raw_data()\n"
   ]
  },
  {
   "cell_type": "code",
   "execution_count": null,
   "id": "8c140972",
   "metadata": {
    "vscode": {
     "languageId": "plaintext"
    }
   },
   "outputs": [],
   "source": []
  },
  {
   "cell_type": "code",
   "execution_count": null,
   "id": "e857397a",
   "metadata": {
    "vscode": {
     "languageId": "plaintext"
    }
   },
   "outputs": [],
   "source": []
  },
  {
   "cell_type": "code",
   "execution_count": null,
   "id": "1159343d-0034-419d-b192-44624de3424d",
   "metadata": {},
   "outputs": [],
   "source": []
  },
  {
   "cell_type": "code",
   "execution_count": null,
   "id": "a8db10cb",
   "metadata": {
    "vscode": {
     "languageId": "plaintext"
    }
   },
   "outputs": [],
   "source": []
  },
  {
   "cell_type": "code",
   "execution_count": null,
   "id": "3b5ffe9f-419c-4a64-b27d-ad0376329826",
   "metadata": {},
   "outputs": [],
   "source": []
  }
 ],
 "metadata": {
  "kernelspec": {
   "display_name": "Python 3 (ipykernel)",
   "language": "python",
   "name": "python3"
  },
  "language_info": {
   "codemirror_mode": {
    "name": "ipython",
    "version": 3
   },
   "file_extension": ".py",
   "mimetype": "text/x-python",
   "name": "python",
   "nbconvert_exporter": "python",
   "pygments_lexer": "ipython3",
   "version": "3.12.11"
  }
 },
 "nbformat": 4,
 "nbformat_minor": 5
}
